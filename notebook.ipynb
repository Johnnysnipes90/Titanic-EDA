{
 "cells": [
  {
   "cell_type": "markdown",
   "metadata": {},
   "source": [
    "# 1. Project Setup\n",
    "## 1.1 Define Project Objectives\n",
    "For the Titanic dataset, the objectives include:\n",
    "\n",
    "- Understanding the dataset's structure and content.\n",
    "- Identifying key features that may influence survival rates.\n",
    "- Handling missing data effectively.\n",
    "- Generating visual insights about passengers' demographics, ticket classes, and survival rates.\n",
    "\n",
    "## 1.2 Feature Description\n",
    "\n",
    "| Feature       | Description                                                                 | Data Type     | Example Value      |\n",
    "|---------------|-----------------------------------------------------------------------------|---------------|--------------------|\n",
    "| PassengerId   | Unique identifier for each passenger                                       | Integer       | 892                |\n",
    "| Survived      | Survival status (0 = No, 1 = Yes)                                         | Integer       | 1                  |\n",
    "| Pclass        | Passenger class (1 = First, 2 = Second, 3 = Third)                        | Integer       | 3                  |\n",
    "| Name          | Full name of the passenger                                                | String        | Kelly, Mr. James   |\n",
    "| Sex           | Gender of the passenger (male/female)                                     | String        | male               |\n",
    "| Age           | Age of the passenger in years                                             | Int         | 34.5               |\n",
    "| SibSp         | Number of siblings and/or spouses aboard the Titanic                      | Integer       | 0                  |\n",
    "| Parch         | Number of parents and/or children aboard the Titanic                      | Integer       | 0                  |\n",
    "| Ticket        | Ticket number                                                             | String        | 330911             |\n",
    "| Fare          | Passenger fare paid                                                      | Float         | 7.8292             |\n",
    "| Cabin         | Cabin number (if assigned)                                               | String/NaN    | NaN (missing value)|\n",
    "| Embarked      | Port of embarkation (C = Cherbourg, Q = Queenstown, S = Southampton)      | String        | Q                  |"
   ]
  },
  {
   "cell_type": "code",
   "execution_count": 3,
   "metadata": {},
   "outputs": [],
   "source": [
    "# IMPORTING NECESSARY LIBRARIES\n",
    "import pandas as pd\n",
    "import numpy as np\n",
    "import matplotlib.pyplot as plt\n",
    "import seaborn as sns"
   ]
  },
  {
   "cell_type": "markdown",
   "metadata": {},
   "source": [
    "# 2. Load and Inspect the Data\n",
    "## 2.1 Load the Dataset"
   ]
  },
  {
   "cell_type": "code",
   "execution_count": null,
   "metadata": {},
   "outputs": [],
   "source": [
    "data_path = r\"C:\\Users\\USER\\Downloads\\archive (22)\\tested.csv\"\n",
    "df = pd.read_csv(data_path)"
   ]
  }
 ],
 "metadata": {
  "kernelspec": {
   "display_name": "Python 3 (ipykernel)",
   "language": "python",
   "name": "python3"
  },
  "language_info": {
   "codemirror_mode": {
    "name": "ipython",
    "version": 3
   },
   "file_extension": ".py",
   "mimetype": "text/x-python",
   "name": "python",
   "nbconvert_exporter": "python",
   "pygments_lexer": "ipython3",
   "version": "3.10.9"
  }
 },
 "nbformat": 4,
 "nbformat_minor": 2
}
